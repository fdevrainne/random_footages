{
 "cells": [
  {
   "cell_type": "code",
   "execution_count": 11,
   "metadata": {},
   "outputs": [],
   "source": [
    "import os, sys, glob, math, random\n",
    "pi = math.pi\n",
    "import matplotlib.pyplot as plt, numpy as np\n",
    "from copy import copy\n",
    "import shutil, pickle, cv2, imageio\n",
    "from shapely.geometry import Polygon\n",
    "from pyproj import Geod"
   ]
  },
  {
   "cell_type": "markdown",
   "metadata": {},
   "source": [
    "# Define classes"
   ]
  },
  {
   "cell_type": "markdown",
   "metadata": {},
   "source": [
    "## Forms classes"
   ]
  },
  {
   "cell_type": "code",
   "execution_count": 5,
   "metadata": {},
   "outputs": [],
   "source": [
    "class Forms:\n",
    "    \"\"\"This parent class is created to give the two following functions to the different \n",
    "       children classes (forms)\"\"\"\n",
    "    def draw(self):\n",
    "        \"\"\"This function draw the form as a polygon (shapely) \n",
    "           from the coordinates of its vertices. It will be used to compute the intersection\n",
    "           of two forms\"\"\"\n",
    "        t = Polygon(self.coordinate)\n",
    "        return t\n",
    "    \n",
    "    def plot_(self):\n",
    "        \"\"\"Used to plot the polygons on a frame\"\"\"\n",
    "        t = plt.Polygon(self.coordinate, color=self.color)\n",
    "        return t\n",
    "    \n",
    "class Triangle(Forms):\n",
    "    \"\"\"A triangle is defined by the coordinate of its three sommets\"\"\"\n",
    "    \n",
    "    def __init__(self,x1,length, theta, color=\"red\"):\n",
    "        \"\"\"Reparametrization x1,length,theta\"\"\"\n",
    "        gamma = (2/3)*pi - theta\n",
    "        self.x1 = x1\n",
    "        self.x2 = length*math.cos(theta) + x1[0], length*math.sin(theta) + x1[1]\n",
    "        self.x3 = x1[0] - length*math.cos(gamma), length*math.sin(gamma) + x1[1]\n",
    "        self.coordinate = [self.x1,self.x2,self.x3]\n",
    "        self.color = color\n",
    "\n",
    "class Square(Forms):\n",
    "    \"\"\"A Square is defined by the coordinate of its 4 sommets\"\"\"\n",
    "    \n",
    "    def __init__(self,x1,length, theta,color=\"red\"):\n",
    "        \"\"\"Reparametrization x1,length,theta\"\"\"\n",
    "        gamma = (1/2)*pi - theta\n",
    "        self.x1 = x1\n",
    "        self.x2 = length*math.cos(theta) + x1[0], length*math.sin(theta) + x1[1]\n",
    "        self.x3 =  self.x2[0] - length*math.sin(theta), length*math.cos(theta) + self.x2[1]\n",
    "        self.x4 =x1[0] - length*math.cos(gamma), length*math.sin(gamma) + x1[1]\n",
    "        self.coordinate = [self.x1,self.x2,self.x3,self.x4]\n",
    "        self.color = color"
   ]
  },
  {
   "cell_type": "markdown",
   "metadata": {},
   "source": [
    "## Frame class"
   ]
  },
  {
   "cell_type": "code",
   "execution_count": 6,
   "metadata": {},
   "outputs": [],
   "source": [
    "class Frame:\n",
    "    \"\"\"This class is designed to combine a list of form to be rendered on the same frame/plot\"\"\"\n",
    "    def __init__(self,forms):\n",
    "        self.forms = {form.color: form for form in forms}\n",
    "    def plot_(self,save=False,aspect=True):\n",
    "        \"\"\"Plot the frame with the given forms at the given coordinates\"\"\"\n",
    "        figure, axes = plt.subplots()\n",
    "        if aspect:\n",
    "            axes.set_aspect(1)\n",
    "            axes.set_axis_off()\n",
    "        for color, form in self.forms.items():\n",
    "            t_ = form.plot_()\n",
    "            polygon = copy(t_)\n",
    "            plt.gca().add_artist(polygon)\n",
    "        if save:\n",
    "            plt.savefig(save)\n",
    "        else:\n",
    "            plt.show()\n",
    "    def get_pickled(self,filename):\n",
    "        \"\"\"To save the Frame object as a pickle file.\n",
    "           In order to reuse it later\"\"\"\n",
    "        filehandler = open(filename, 'wb') \n",
    "        pickle.dump(self, filehandler)"
   ]
  },
  {
   "cell_type": "code",
   "execution_count": 7,
   "metadata": {},
   "outputs": [
    {
     "data": {
      "image/png": "[encoded data removed]",
      "text/plain": [
       "<Figure size 432x288 with 1 Axes>"
      ]
     },
     "metadata": {
      "needs_background": "light"
     },
     "output_type": "display_data"
    }
   ],
   "source": [
    "triangle =  Triangle((0,0),2,0,\"green\")\n",
    "square = Square((0,0),0.2,0,color=\"blue\")\n",
    "frame = Frame([triangle, square])\n",
    "frame.plot_()"
   ]
  },
  {
   "cell_type": "markdown",
   "metadata": {},
   "source": [
    "# Comparator class"
   ]
  },
  {
   "cell_type": "code",
   "execution_count": 8,
   "metadata": {},
   "outputs": [],
   "source": [
    "def PolyArea(poly_coord):\n",
    "    \"\"\"Compute the area of a polygon given its vertices coordinates.\n",
    "       It involves the Shoelace formula.\n",
    "       Reference :\n",
    "       https://stackoverflow.com/questions/24467972/calculate-area-of-polygon-given-x-y-coordinates\n",
    "       \"\"\"\n",
    "    if len(poly_coord)<1:\n",
    "        return 0\n",
    "    else:\n",
    "        poly_coord = np.array(poly_coord)\n",
    "        x, y = poly_coord[:,0], poly_coord[:,1]\n",
    "        return 0.5*np.abs(np.dot(x,np.roll(y,1))-np.dot(y,np.roll(x,1)))\n",
    "\n",
    "def segments2points(segment_list):\n",
    "    \"\"\"The intersection function of shapely returns a list of points and line2D,\n",
    "    the line2D has to be unpacked into the two points it represents\"\"\"\n",
    "    polygon_intersection = []\n",
    "    for segment in segment_list:\n",
    "        if \"points\" in dir(segment):\n",
    "            # would be better to check the type rather than the attribut\n",
    "            for point in segment.points:\n",
    "                polygon_intersection.append((point.x,point.y))\n",
    "        else:\n",
    "            # because then the variable segment is a point\n",
    "            polygon_intersection.append((segment.x,segment.y))\n",
    "    return polygon_intersection\n",
    "\n",
    "class Comparator:\n",
    "    \"\"\"This class is used to compare two frames according to the metrics\"\"\"\n",
    "    def __init__(self, frame1, frame2):\n",
    "        self.frame1 = frame1\n",
    "        self.frame2 = frame2\n",
    "        \n",
    "    def compare_forms(self,coordinate1,coordinate2):\n",
    "        \"\"\"To compare forms of same color\"\"\"\n",
    "        coordinate1 = [Point(coordinate) for coordinate in coordinate1]\n",
    "        coordinate2 = [Point(coordinate) for coordinate in coordinate2]\n",
    "        intersection = Polygon(*coordinate1).intersection(Polygon(*coordinate2))\n",
    "        coordinates_intersection = segments2points(intersection)\n",
    "        return PolyArea(coordinates_intersection)\n",
    "    \n",
    "    def compare(self):\n",
    "        \"\"\"Loop over the form of each frame to return the inv_dist\n",
    "           between frame1\"\"\"\n",
    "        inv_dist = 0\n",
    "        for (color1, form1), (color2, form2) in zip(self.frame1.forms.items(),self.frame2.forms.items()):\n",
    "            inv_dist += self.compare_forms(form1.coordinate, form2.coordinate)\n",
    "        return inv_dist"
   ]
  },
  {
   "cell_type": "markdown",
   "metadata": {},
   "source": [
    "# Order the frames\n",
    "\n",
    "* Create n random frames in a directory\n",
    "* Choose one frame from this directory\n",
    "* Move it to a video directory with the index 0\n",
    "* Delete it from the first directory\n",
    "* Look for the image that maximises the distance\n",
    "* Move the image to the video directory with the index 1\n",
    "* Delete it from first directory\n",
    "* Repeat this until no more images in the first directory\n",
    "* Create the footage from the ordered frames in the video directory"
   ]
  },
  {
   "cell_type": "code",
   "execution_count": 10,
   "metadata": {},
   "outputs": [],
   "source": [
    "def find_min_dist_frame(frame, directory):\n",
    "    \"\"\"From a given frame, this function look for the image that maximises\n",
    "       the inverse of distance over all images of a directory\"\"\"\n",
    "    max_dict = {}\n",
    "    for filename in glob.glob(f'{directory}/*.obj'):\n",
    "        filehandler = open(filename, 'rb')\n",
    "        frame_load = pickle.load(filehandler)\n",
    "        comparator = Comparator(frame,frame_load)\n",
    "        inv_dist =  comparator.compare()\n",
    "        max_dict[filename] = inv_dist\n",
    "    return max(max_dict, key=max_dict.get)"
   ]
  },
  {
   "cell_type": "markdown",
   "metadata": {},
   "source": [
    "## Create the different folders for the experiment"
   ]
  },
  {
   "cell_type": "code",
   "execution_count": null,
   "metadata": {},
   "outputs": [],
   "source": [
    "folder_name = \"moving_area\"\n",
    "if not os.path.exists(folder_name):\n",
    "    os.makedirs(folder_name)\n",
    "    \n",
    "folder_video_name = f\"video_{folder_name}\"\n",
    "if not os.path.exists(folder_video_name):\n",
    "    os.makedirs(folder_video_name)"
   ]
  },
  {
   "cell_type": "markdown",
   "metadata": {},
   "source": [
    "## Generate randomly frames\n",
    "by generating random centers of forms. <br>\n",
    "Frame objects are then all saved as pickle files."
   ]
  },
  {
   "cell_type": "code",
   "execution_count": null,
   "metadata": {},
   "outputs": [],
   "source": [
    "prefix = f\"{folder_name}/{folder_name}\"\n",
    "n = 100\n",
    "randomize_color = False\n",
    "randomize_angle = True\n",
    "for i in range(n):\n",
    "    center_1 = random.random(), random.random()\n",
    "    center_2 = random.random(), random.random()\n",
    "    center_3 = random.random(), random.random()\n",
    "    \n",
    "    if randomize_angle:\n",
    "        angle_1, angle_2 =  [2*pi*random.random() for i in range(2)]\n",
    "    \n",
    "    colors = [\"blue\",\"red\",\"green\"]\n",
    "    if randomize_color:\n",
    "        random.shuffle(colors)\n",
    "        \n",
    "    rndm_nb = random.random()\n",
    "    square_size = rndm_nb*0.31\n",
    "    triangle_size = (1-rndm_nb)*0.46\n",
    "    \n",
    "    square = Square(center_1,square_size,angle_1,color=colors[0])\n",
    "    triangle =  Triangle(center_3,triangle_size,angle_2,colors[2])\n",
    "    frame = Frame([square, triangle])\n",
    "    \n",
    "    # The frame object is saved as a pickle file for the later distance computations\n",
    "    frame.get_pickled(filename=f\"{prefix}_{i}.obj\")"
   ]
  },
  {
   "cell_type": "markdown",
   "metadata": {},
   "source": [
    "## Generate the videos"
   ]
  },
  {
   "cell_type": "code",
   "execution_count": null,
   "metadata": {},
   "outputs": [],
   "source": [
    "# A seed frame is randomly chosen into the directory\n",
    "seed_frame_path = random.choice(glob.glob(f'{folder_name}/*.obj'))\n",
    "next_frame_path = seed_frame_path\n",
    "index_loop = 0\n",
    "# While there is still at least 2 images in the unordered directory\n",
    "while len(os.listdir(folder_name)) > 1:\n",
    "    # Move this image to the folder_video_name\n",
    "    next_frame_path = shutil.move(next_frame_path, f\"{folder_video_name}/{index_loop}.obj\")\n",
    "    # Increment the loop index\n",
    "    index_loop+=1\n",
    "    # Load the current frame\n",
    "    filehandler = open(next_frame_path, 'rb')\n",
    "    frame_n = pickle.load(filehandler)\n",
    "    # Find the path of the min distance image\n",
    "    next_frame_path = find_min_dist_frame(frame_n,folder_name)"
   ]
  },
  {
   "cell_type": "markdown",
   "metadata": {},
   "source": [
    "## Create the videos from frames"
   ]
  },
  {
   "cell_type": "code",
   "execution_count": null,
   "metadata": {},
   "outputs": [],
   "source": [
    "img_array = []\n",
    "les_fichiers = glob.glob(f'{folder_video_name}/*.obj')\n",
    "for index in range(len(les_fichiers)):\n",
    "    filehandler = open(f'{folder_video_name}/{index}.obj', 'rb')\n",
    "    frame = pickle.load(filehandler)\n",
    "    frame.plot_(save=\"temp_image.png\")\n",
    "    img = cv2.imread(f\"temp_image.png\")\n",
    "    height, width, layers = img.shape\n",
    "    size = (width,height)\n",
    "    img_array.append(img)\n",
    "    \n",
    "out = cv2.VideoWriter('project_carre_triangle_moving.avi',cv2.VideoWriter_fourcc(*'DIVX'), 15, size)\n",
    " \n",
    "for i in range(len(img_array)):\n",
    "    out.write(img_array[i])\n",
    "out.release()"
   ]
  },
  {
   "cell_type": "markdown",
   "metadata": {},
   "source": [
    "## Convert the avi file to gif, to be rendered inside the jupyter nb\n",
    "(and on the README.md on git)"
   ]
  },
  {
   "cell_type": "code",
   "execution_count": 21,
   "metadata": {},
   "outputs": [
    {
     "name": "stdout",
     "output_type": "stream",
     "text": [
      "converting\n",
      "\tproject_carre_triangle_moving.avi\n",
      "to\n",
      "\tproject_carre_triangle_moving.gif\n",
      "frame 99\n",
      "Finalizing...\n",
      "Done.\n"
     ]
    }
   ],
   "source": [
    "# Reference : https://gist.github.com/michaelosthege/cd3e0c3c556b70a79deba6855deb2cc8\n",
    "\n",
    "class TargetFormat(object):\n",
    "    GIF = \".gif\"\n",
    "    MP4 = \".mp4\"\n",
    "    AVI = \".avi\"\n",
    "\n",
    "def convertFile(inputpath, targetFormat):\n",
    "    \"\"\"Reference: http://imageio.readthedocs.io/en/latest/examples.html#convert-a-movie\"\"\"\n",
    "    outputpath = os.path.splitext(inputpath)[0] + targetFormat\n",
    "    print(\"converting\\r\\n\\t{0}\\r\\nto\\r\\n\\t{1}\".format(inputpath, outputpath))\n",
    "\n",
    "    reader = imageio.get_reader(inputpath)\n",
    "    fps = reader.get_meta_data()['fps']\n",
    "\n",
    "    writer = imageio.get_writer(outputpath, fps=fps)\n",
    "    for i,im in enumerate(reader):\n",
    "        sys.stdout.write(\"\\rframe {0}\".format(i))\n",
    "        sys.stdout.flush()\n",
    "        writer.append_data(im)\n",
    "    print(\"\\r\\nFinalizing...\")\n",
    "    writer.close()\n",
    "    print(\"Done.\")\n",
    "\n",
    "convertFile(\"project_carre_triangle_moving.avi\", TargetFormat.GIF)"
   ]
  },
  {
   "cell_type": "markdown",
   "metadata": {},
   "source": [
    "![](project_carre_triangle_moving.gif)"
   ]
  }
 ],
 "metadata": {
  "kernelspec": {
   "display_name": "Python 3",
   "language": "python",
   "name": "python3"
  },
  "language_info": {
   "codemirror_mode": {
    "name": "ipython",
    "version": 3
   },
   "file_extension": ".py",
   "mimetype": "text/x-python",
   "name": "python",
   "nbconvert_exporter": "python",
   "pygments_lexer": "ipython3",
   "version": "3.9.0"
  }
 },
 "nbformat": 4,
 "nbformat_minor": 4
}
